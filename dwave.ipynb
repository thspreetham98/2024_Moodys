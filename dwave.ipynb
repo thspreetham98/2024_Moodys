{
 "cells": [
  {
   "cell_type": "code",
   "execution_count": 1,
   "metadata": {},
   "outputs": [
    {
     "name": "stdout",
     "output_type": "stream",
     "text": [
      "Collecting dwave-ocean-sdk\n",
      "  Downloading dwave_ocean_sdk-6.8.0-py3-none-any.whl.metadata (5.7 kB)\n",
      "Requirement already satisfied: dimod==0.12.14 in /Users/lakshikarathi/miniconda3/lib/python3.11/site-packages (from dwave-ocean-sdk) (0.12.14)\n",
      "Collecting dwave-cloud-client==0.11.2 (from dwave-ocean-sdk)\n",
      "  Downloading dwave_cloud_client-0.11.2-py3-none-any.whl.metadata (5.3 kB)\n",
      "Collecting dwave-greedy==0.3.0 (from dwave-ocean-sdk)\n",
      "  Downloading dwave_greedy-0.3.0-py3-none-any.whl (10 kB)\n",
      "Collecting dwave-hybrid==0.6.10 (from dwave-ocean-sdk)\n",
      "  Downloading dwave_hybrid-0.6.10-py3-none-any.whl (74 kB)\n",
      "\u001b[2K     \u001b[90m━━━━━━━━━━━━━━━━━━━━━━━━━━━━━━━━━━━━━━━━\u001b[0m \u001b[32m74.8/74.8 kB\u001b[0m \u001b[31m2.4 MB/s\u001b[0m eta \u001b[36m0:00:00\u001b[0m\n",
      "\u001b[?25hCollecting dwave-inspector==0.4.4 (from dwave-ocean-sdk)\n",
      "  Downloading dwave_inspector-0.4.4-py3-none-any.whl.metadata (4.4 kB)\n",
      "Requirement already satisfied: dwave-neal==0.6.0 in /Users/lakshikarathi/miniconda3/lib/python3.11/site-packages (from dwave-ocean-sdk) (0.6.0)\n",
      "Collecting dwave-networkx==0.8.14 (from dwave-ocean-sdk)\n",
      "  Downloading dwave_networkx-0.8.14-py3-none-any.whl.metadata (2.6 kB)\n",
      "Collecting dwave-preprocessing==0.6.5 (from dwave-ocean-sdk)\n",
      "  Downloading dwave_preprocessing-0.6.5-cp311-cp311-macosx_11_0_arm64.whl.metadata (3.3 kB)\n",
      "Requirement already satisfied: dwave-samplers==1.2.0 in /Users/lakshikarathi/miniconda3/lib/python3.11/site-packages (from dwave-ocean-sdk) (1.2.0)\n",
      "Collecting dwave-system==1.23.0 (from dwave-ocean-sdk)\n",
      "  Downloading dwave_system-1.23.0-py3-none-any.whl.metadata (3.8 kB)\n",
      "Collecting dwave-tabu==0.5.0 (from dwave-ocean-sdk)\n",
      "  Downloading dwave_tabu-0.5.0-py3-none-any.whl (9.2 kB)\n",
      "Collecting dwavebinarycsp==0.3.0 (from dwave-ocean-sdk)\n",
      "  Downloading dwavebinarycsp-0.3.0-py3-none-any.whl.metadata (3.0 kB)\n",
      "Collecting minorminer==0.2.13 (from dwave-ocean-sdk)\n",
      "  Downloading minorminer-0.2.13-cp311-cp311-macosx_11_0_arm64.whl.metadata (1.4 kB)\n",
      "Collecting penaltymodel==1.1.0 (from dwave-ocean-sdk)\n",
      "  Downloading penaltymodel-1.1.0-py3-none-any.whl.metadata (6.5 kB)\n",
      "Requirement already satisfied: numpy<2.0.0,>=1.17.3 in /Users/lakshikarathi/miniconda3/lib/python3.11/site-packages (from dimod==0.12.14->dwave-ocean-sdk) (1.26.0)\n",
      "Requirement already satisfied: requests>=2.18 in /Users/lakshikarathi/miniconda3/lib/python3.11/site-packages (from requests[socks]>=2.18->dwave-cloud-client==0.11.2->dwave-ocean-sdk) (2.31.0)\n",
      "Collecting pydantic<3,>=2 (from dwave-cloud-client==0.11.2->dwave-ocean-sdk)\n",
      "  Downloading pydantic-2.6.0-py3-none-any.whl.metadata (81 kB)\n",
      "\u001b[2K     \u001b[90m━━━━━━━━━━━━━━━━━━━━━━━━━━━━━━━━━━━━━━━━\u001b[0m \u001b[32m81.8/81.8 kB\u001b[0m \u001b[31m3.0 MB/s\u001b[0m eta \u001b[36m0:00:00\u001b[0m\n",
      "\u001b[?25hCollecting homebase>=1.0 (from dwave-cloud-client==0.11.2->dwave-ocean-sdk)\n",
      "  Downloading homebase-1.0.1-py2.py3-none-any.whl (11 kB)\n",
      "Collecting click>=7.0 (from dwave-cloud-client==0.11.2->dwave-ocean-sdk)\n",
      "  Downloading click-8.1.7-py3-none-any.whl.metadata (3.0 kB)\n",
      "Requirement already satisfied: python-dateutil>=2.7 in /Users/lakshikarathi/miniconda3/lib/python3.11/site-packages (from dwave-cloud-client==0.11.2->dwave-ocean-sdk) (2.8.2)\n",
      "Collecting plucky>=0.4.3 (from dwave-cloud-client==0.11.2->dwave-ocean-sdk)\n",
      "  Downloading plucky-0.4.3-py2.py3-none-any.whl (10 kB)\n",
      "Collecting diskcache>=5.2.1 (from dwave-cloud-client==0.11.2->dwave-ocean-sdk)\n",
      "  Downloading diskcache-5.6.3-py3-none-any.whl.metadata (20 kB)\n",
      "Requirement already satisfied: packaging>=19 in /Users/lakshikarathi/miniconda3/lib/python3.11/site-packages (from dwave-cloud-client==0.11.2->dwave-ocean-sdk) (23.1)\n",
      "Collecting werkzeug>=2.2 (from dwave-cloud-client==0.11.2->dwave-ocean-sdk)\n",
      "  Downloading werkzeug-3.0.1-py3-none-any.whl.metadata (4.1 kB)\n",
      "Requirement already satisfied: typing-extensions>=4.5.0 in /Users/lakshikarathi/miniconda3/lib/python3.11/site-packages (from dwave-cloud-client==0.11.2->dwave-ocean-sdk) (4.8.0)\n",
      "Collecting authlib<2,>=1.2 (from dwave-cloud-client==0.11.2->dwave-ocean-sdk)\n",
      "  Downloading Authlib-1.3.0-py2.py3-none-any.whl.metadata (3.8 kB)\n",
      "Collecting importlib-metadata>=5.0.0 (from dwave-cloud-client==0.11.2->dwave-ocean-sdk)\n",
      "  Downloading importlib_metadata-7.0.1-py3-none-any.whl.metadata (4.9 kB)\n",
      "Requirement already satisfied: networkx in /Users/lakshikarathi/miniconda3/lib/python3.11/site-packages (from dwave-hybrid==0.6.10->dwave-ocean-sdk) (2.8.8)\n",
      "Collecting Flask>=2.2 (from dwave-inspector==0.4.4->dwave-ocean-sdk)\n",
      "  Downloading flask-3.0.2-py3-none-any.whl.metadata (3.6 kB)\n",
      "Requirement already satisfied: scipy>=1.7.3 in /Users/lakshikarathi/miniconda3/lib/python3.11/site-packages (from dwave-system==1.23.0->dwave-ocean-sdk) (1.11.3)\n",
      "Collecting fasteners>=0.15 (from minorminer==0.2.13->dwave-ocean-sdk)\n",
      "  Downloading fasteners-0.19-py3-none-any.whl.metadata (4.9 kB)\n",
      "Collecting rectangle-packer>=2.0.1 (from minorminer==0.2.13->dwave-ocean-sdk)\n",
      "  Downloading rectangle-packer-2.0.2.tar.gz (99 kB)\n",
      "\u001b[2K     \u001b[90m━━━━━━━━━━━━━━━━━━━━━━━━━━━━━━━━━━━━━━━━\u001b[0m \u001b[32m99.6/99.6 kB\u001b[0m \u001b[31m4.7 MB/s\u001b[0m eta \u001b[36m0:00:00\u001b[0m\n",
      "\u001b[?25h  Preparing metadata (setup.py) ... \u001b[?25ldone\n",
      "\u001b[?25hRequirement already satisfied: cryptography in /Users/lakshikarathi/miniconda3/lib/python3.11/site-packages (from authlib<2,>=1.2->dwave-cloud-client==0.11.2->dwave-ocean-sdk) (39.0.1)\n",
      "Requirement already satisfied: Jinja2>=3.1.2 in /Users/lakshikarathi/miniconda3/lib/python3.11/site-packages (from Flask>=2.2->dwave-inspector==0.4.4->dwave-ocean-sdk) (3.1.2)\n",
      "Collecting itsdangerous>=2.1.2 (from Flask>=2.2->dwave-inspector==0.4.4->dwave-ocean-sdk)\n",
      "  Downloading itsdangerous-2.1.2-py3-none-any.whl (15 kB)\n",
      "Collecting blinker>=1.6.2 (from Flask>=2.2->dwave-inspector==0.4.4->dwave-ocean-sdk)\n",
      "  Downloading blinker-1.7.0-py3-none-any.whl.metadata (1.9 kB)\n",
      "Collecting zipp>=0.5 (from importlib-metadata>=5.0.0->dwave-cloud-client==0.11.2->dwave-ocean-sdk)\n",
      "  Using cached zipp-3.17.0-py3-none-any.whl.metadata (3.7 kB)\n",
      "Collecting annotated-types>=0.4.0 (from pydantic<3,>=2->dwave-cloud-client==0.11.2->dwave-ocean-sdk)\n",
      "  Downloading annotated_types-0.6.0-py3-none-any.whl.metadata (12 kB)\n",
      "Collecting pydantic-core==2.16.1 (from pydantic<3,>=2->dwave-cloud-client==0.11.2->dwave-ocean-sdk)\n",
      "  Downloading pydantic_core-2.16.1-cp311-cp311-macosx_11_0_arm64.whl.metadata (6.5 kB)\n",
      "Requirement already satisfied: six>=1.5 in /Users/lakshikarathi/miniconda3/lib/python3.11/site-packages (from python-dateutil>=2.7->dwave-cloud-client==0.11.2->dwave-ocean-sdk) (1.16.0)\n",
      "Requirement already satisfied: charset-normalizer<4,>=2 in /Users/lakshikarathi/miniconda3/lib/python3.11/site-packages (from requests>=2.18->requests[socks]>=2.18->dwave-cloud-client==0.11.2->dwave-ocean-sdk) (2.0.4)\n",
      "Requirement already satisfied: idna<4,>=2.5 in /Users/lakshikarathi/miniconda3/lib/python3.11/site-packages (from requests>=2.18->requests[socks]>=2.18->dwave-cloud-client==0.11.2->dwave-ocean-sdk) (3.4)\n",
      "Requirement already satisfied: urllib3<3,>=1.21.1 in /Users/lakshikarathi/miniconda3/lib/python3.11/site-packages (from requests>=2.18->requests[socks]>=2.18->dwave-cloud-client==0.11.2->dwave-ocean-sdk) (1.26.16)\n",
      "Requirement already satisfied: certifi>=2017.4.17 in /Users/lakshikarathi/miniconda3/lib/python3.11/site-packages (from requests>=2.18->requests[socks]>=2.18->dwave-cloud-client==0.11.2->dwave-ocean-sdk) (2023.7.22)\n",
      "Requirement already satisfied: PySocks!=1.5.7,>=1.5.6 in /Users/lakshikarathi/miniconda3/lib/python3.11/site-packages (from requests[socks]>=2.18->dwave-cloud-client==0.11.2->dwave-ocean-sdk) (1.7.1)\n",
      "Requirement already satisfied: MarkupSafe>=2.1.1 in /Users/lakshikarathi/miniconda3/lib/python3.11/site-packages (from werkzeug>=2.2->dwave-cloud-client==0.11.2->dwave-ocean-sdk) (2.1.3)\n",
      "Requirement already satisfied: cffi>=1.12 in /Users/lakshikarathi/miniconda3/lib/python3.11/site-packages (from cryptography->authlib<2,>=1.2->dwave-cloud-client==0.11.2->dwave-ocean-sdk) (1.15.1)\n",
      "Requirement already satisfied: pycparser in /Users/lakshikarathi/miniconda3/lib/python3.11/site-packages (from cffi>=1.12->cryptography->authlib<2,>=1.2->dwave-cloud-client==0.11.2->dwave-ocean-sdk) (2.21)\n",
      "Downloading dwave_ocean_sdk-6.8.0-py3-none-any.whl (8.4 kB)\n",
      "Downloading dwave_cloud_client-0.11.2-py3-none-any.whl (138 kB)\n",
      "\u001b[2K   \u001b[90m━━━━━━━━━━━━━━━━━━━━━━━━━━━━━━━━━━━━━━━━\u001b[0m \u001b[32m138.8/138.8 kB\u001b[0m \u001b[31m2.2 MB/s\u001b[0m eta \u001b[36m0:00:00\u001b[0ma \u001b[36m0:00:01\u001b[0m\n",
      "\u001b[?25hDownloading dwave_inspector-0.4.4-py3-none-any.whl (31 kB)\n",
      "Downloading dwave_networkx-0.8.14-py3-none-any.whl (102 kB)\n",
      "\u001b[2K   \u001b[90m━━━━━━━━━━━━━━━━━━━━━━━━━━━━━━━━━━━━━━━━\u001b[0m \u001b[32m102.4/102.4 kB\u001b[0m \u001b[31m4.6 MB/s\u001b[0m eta \u001b[36m0:00:00\u001b[0m\n",
      "\u001b[?25hDownloading dwave_preprocessing-0.6.5-cp311-cp311-macosx_11_0_arm64.whl (716 kB)\n",
      "\u001b[2K   \u001b[90m━━━━━━━━━━━━━━━━━━━━━━━━━━━━━━━━━━━━━━━━\u001b[0m \u001b[32m716.2/716.2 kB\u001b[0m \u001b[31m5.7 MB/s\u001b[0m eta \u001b[36m0:00:00\u001b[0m00:01\u001b[0m00:01\u001b[0m\n",
      "\u001b[?25hDownloading dwave_system-1.23.0-py3-none-any.whl (103 kB)\n",
      "\u001b[2K   \u001b[90m━━━━━━━━━━━━━━━━━━━━━━━━━━━━━━━━━━━━━━━━\u001b[0m \u001b[32m103.2/103.2 kB\u001b[0m \u001b[31m3.5 MB/s\u001b[0m eta \u001b[36m0:00:00\u001b[0m\n",
      "\u001b[?25hDownloading dwavebinarycsp-0.3.0-py3-none-any.whl (35 kB)\n",
      "Downloading minorminer-0.2.13-cp311-cp311-macosx_11_0_arm64.whl (889 kB)\n",
      "\u001b[2K   \u001b[90m━━━━━━━━━━━━━━━━━━━━━━━━━━━━━━━━━━━━━━━━\u001b[0m \u001b[32m889.2/889.2 kB\u001b[0m \u001b[31m1.4 MB/s\u001b[0m eta \u001b[36m0:00:00\u001b[0ma \u001b[36m0:00:01\u001b[0mm\n",
      "\u001b[?25hDownloading penaltymodel-1.1.0-py3-none-any.whl (36 kB)\n",
      "Downloading Authlib-1.3.0-py2.py3-none-any.whl (223 kB)\n",
      "\u001b[2K   \u001b[90m━━━━━━━━━━━━━━━━━━━━━━━━━━━━━━━━━━━━━━━━\u001b[0m \u001b[32m223.7/223.7 kB\u001b[0m \u001b[31m4.7 MB/s\u001b[0m eta \u001b[36m0:00:00\u001b[0ma \u001b[36m0:00:01\u001b[0m\n",
      "\u001b[?25hDownloading click-8.1.7-py3-none-any.whl (97 kB)\n",
      "\u001b[2K   \u001b[90m━━━━━━━━━━━━━━━━━━━━━━━━━━━━━━━━━━━━━━━━\u001b[0m \u001b[32m97.9/97.9 kB\u001b[0m \u001b[31m4.8 MB/s\u001b[0m eta \u001b[36m0:00:00\u001b[0m\n",
      "\u001b[?25hDownloading diskcache-5.6.3-py3-none-any.whl (45 kB)\n",
      "\u001b[2K   \u001b[90m━━━━━━━━━━━━━━━━━━━━━━━━━━━━━━━━━━━━━━━━\u001b[0m \u001b[32m45.5/45.5 kB\u001b[0m \u001b[31m1.1 MB/s\u001b[0m eta \u001b[36m0:00:00\u001b[0m\n",
      "\u001b[?25hDownloading fasteners-0.19-py3-none-any.whl (18 kB)\n",
      "Downloading flask-3.0.2-py3-none-any.whl (101 kB)\n",
      "\u001b[2K   \u001b[90m━━━━━━━━━━━━━━━━━━━━━━━━━━━━━━━━━━━━━━━━\u001b[0m \u001b[32m101.3/101.3 kB\u001b[0m \u001b[31m5.0 MB/s\u001b[0m eta \u001b[36m0:00:00\u001b[0m\n",
      "\u001b[?25hDownloading importlib_metadata-7.0.1-py3-none-any.whl (23 kB)\n",
      "Downloading pydantic-2.6.0-py3-none-any.whl (394 kB)\n",
      "\u001b[2K   \u001b[90m━━━━━━━━━━━━━━━━━━━━━━━━━━━━━━━━━━━━━━━━\u001b[0m \u001b[32m394.2/394.2 kB\u001b[0m \u001b[31m5.4 MB/s\u001b[0m eta \u001b[36m0:00:00\u001b[0ma \u001b[36m0:00:01\u001b[0m\n",
      "\u001b[?25hDownloading pydantic_core-2.16.1-cp311-cp311-macosx_11_0_arm64.whl (1.7 MB)\n",
      "\u001b[2K   \u001b[90m━━━━━━━━━━━━━━━━━━━━━━━━━━━━━━━━━━━━━━━━\u001b[0m \u001b[32m1.7/1.7 MB\u001b[0m \u001b[31m4.1 MB/s\u001b[0m eta \u001b[36m0:00:00\u001b[0m00:01\u001b[0m00:01\u001b[0m0m\n",
      "\u001b[?25hDownloading werkzeug-3.0.1-py3-none-any.whl (226 kB)\n",
      "\u001b[2K   \u001b[90m━━━━━━━━━━━━━━━━━━━━━━━━━━━━━━━━━━━━━━━\u001b[0m \u001b[32m226.7/226.7 kB\u001b[0m \u001b[31m711.8 kB/s\u001b[0m eta \u001b[36m0:00:00\u001b[0m \u001b[36m0:00:01\u001b[0m\n",
      "\u001b[?25hDownloading annotated_types-0.6.0-py3-none-any.whl (12 kB)\n",
      "Downloading blinker-1.7.0-py3-none-any.whl (13 kB)\n",
      "Using cached zipp-3.17.0-py3-none-any.whl (7.4 kB)\n",
      "Building wheels for collected packages: rectangle-packer\n",
      "  Building wheel for rectangle-packer (setup.py) ... \u001b[?25ldone\n",
      "\u001b[?25h  Created wheel for rectangle-packer: filename=rectangle_packer-2.0.2-cp311-cp311-macosx_11_0_arm64.whl size=55933 sha256=92043455c0e83cd89f39c191031bba1d3c2081d426d91a888c350d0a902861e9\n",
      "  Stored in directory: /Users/lakshikarathi/Library/Caches/pip/wheels/52/c8/84/a8e6cb262506897dac7356e9d167987af7c2fb4e5d244a83fe\n",
      "Successfully built rectangle-packer\n",
      "Installing collected packages: rectangle-packer, plucky, homebase, zipp, werkzeug, pydantic-core, itsdangerous, fasteners, diskcache, click, blinker, annotated-types, pydantic, penaltymodel, importlib-metadata, Flask, dwave-preprocessing, dwave-networkx, minorminer, dwavebinarycsp, dwave-tabu, dwave-greedy, authlib, dwave-cloud-client, dwave-system, dwave-inspector, dwave-hybrid, dwave-ocean-sdk\n",
      "Successfully installed Flask-3.0.2 annotated-types-0.6.0 authlib-1.3.0 blinker-1.7.0 click-8.1.7 diskcache-5.6.3 dwave-cloud-client-0.11.2 dwave-greedy-0.3.0 dwave-hybrid-0.6.10 dwave-inspector-0.4.4 dwave-networkx-0.8.14 dwave-ocean-sdk-6.8.0 dwave-preprocessing-0.6.5 dwave-system-1.23.0 dwave-tabu-0.5.0 dwavebinarycsp-0.3.0 fasteners-0.19 homebase-1.0.1 importlib-metadata-7.0.1 itsdangerous-2.1.2 minorminer-0.2.13 penaltymodel-1.1.0 plucky-0.4.3 pydantic-2.6.0 pydantic-core-2.16.1 rectangle-packer-2.0.2 werkzeug-3.0.1 zipp-3.17.0\n",
      "\n",
      "\u001b[1m[\u001b[0m\u001b[34;49mnotice\u001b[0m\u001b[1;39;49m]\u001b[0m\u001b[39;49m A new release of pip is available: \u001b[0m\u001b[31;49m23.3.1\u001b[0m\u001b[39;49m -> \u001b[0m\u001b[32;49m24.0\u001b[0m\n",
      "\u001b[1m[\u001b[0m\u001b[34;49mnotice\u001b[0m\u001b[1;39;49m]\u001b[0m\u001b[39;49m To update, run: \u001b[0m\u001b[32;49mpip install --upgrade pip\u001b[0m\n"
     ]
    }
   ],
   "source": [
    "!pip install dwave-ocean-sdk"
   ]
  },
  {
   "cell_type": "code",
   "execution_count": null,
   "metadata": {},
   "outputs": [],
   "source": []
  },
  {
   "cell_type": "code",
   "execution_count": 1,
   "metadata": {},
   "outputs": [],
   "source": [
    "from dwave.system import LeapHybridSampler"
   ]
  },
  {
   "cell_type": "code",
   "execution_count": 2,
   "metadata": {},
   "outputs": [
    {
     "ename": "KeyError",
     "evalue": "'num_qubits'",
     "output_type": "error",
     "traceback": [
      "\u001b[0;31m---------------------------------------------------------------------------\u001b[0m",
      "\u001b[0;31mKeyError\u001b[0m                                  Traceback (most recent call last)",
      "Cell \u001b[0;32mIn [2], line 7\u001b[0m\n\u001b[1;32m      5\u001b[0m properties \u001b[39m=\u001b[39m sampler\u001b[39m.\u001b[39mproperties\n\u001b[1;32m      6\u001b[0m \u001b[39m# Extract the maximum number of qubits\u001b[39;00m\n\u001b[0;32m----> 7\u001b[0m max_qubits \u001b[39m=\u001b[39m properties[\u001b[39m'\u001b[39;49m\u001b[39mnum_qubits\u001b[39;49m\u001b[39m'\u001b[39;49m]\n\u001b[1;32m      8\u001b[0m \u001b[39mprint\u001b[39m(\u001b[39mf\u001b[39m\u001b[39m\"\u001b[39m\u001b[39mMaximum number of qubits: \u001b[39m\u001b[39m{\u001b[39;00mmax_qubits\u001b[39m}\u001b[39;00m\u001b[39m\"\u001b[39m)\n",
      "\u001b[0;31mKeyError\u001b[0m: 'num_qubits'"
     ]
    }
   ],
   "source": [
    "#from dwave.system import DWaveSampler, EmbeddingComposite\n",
    "# Connect to a D-Wave system\n",
    "sampler = LeapHybridSampler() #EmbeddingComposite(DWaveSampler())\n",
    "# Get properties of the D-Wave system\n",
    "properties = sampler.properties\n",
    "# Extract the maximum number of qubits\n",
    "max_qubits = properties['num_qubits']\n",
    "print(f\"Maximum number of qubits: {max_qubits}\")"
   ]
  },
  {
   "cell_type": "code",
   "execution_count": 5,
   "metadata": {},
   "outputs": [
    {
     "name": "stdout",
     "output_type": "stream",
     "text": [
      "   0  1 100 energy num_oc. chain_.\n",
      "0  1  1   0   -2.0       1     0.0\n",
      "['BINARY', 1 rows, 1 samples, 3 variables]\n"
     ]
    }
   ],
   "source": [
    "import dimod\n",
    "from dwave.system import DWaveSampler, EmbeddingComposite\n",
    "# Define a simple QUBO problem\n",
    "Q = {(0, 0): -1, (1, 1): -1, (100, 100): 2}\n",
    "# Connect to a D-Wave quantum computer\n",
    "sampler = EmbeddingComposite(DWaveSampler())\n",
    "# Submit the QUBO problem to the D-Wave system\n",
    "response = sampler.sample_qubo(Q, num_reads=1)\n",
    "# Print the results\n",
    "print(response)"
   ]
  },
  {
   "cell_type": "code",
   "execution_count": 3,
   "metadata": {},
   "outputs": [
    {
     "data": {
      "text/plain": [
       "{'minimum_time_limit': [[1, 3.0],\n",
       "  [1024, 3.0],\n",
       "  [4096, 10.0],\n",
       "  [10000, 40.0],\n",
       "  [30000, 200.0],\n",
       "  [100000, 600.0],\n",
       "  [1000000, 600.0]],\n",
       " 'maximum_time_limit_hrs': 24.0,\n",
       " 'maximum_number_of_variables': 1000000,\n",
       " 'maximum_number_of_biases': 200000000,\n",
       " 'parameters': {'time_limit': 'Maximum requested runtime in seconds.'},\n",
       " 'supported_problem_types': ['bqm'],\n",
       " 'category': 'hybrid',\n",
       " 'version': '2.2',\n",
       " 'quota_conversion_rate': 20}"
      ]
     },
     "execution_count": 3,
     "metadata": {},
     "output_type": "execute_result"
    }
   ],
   "source": [
    "from dwave.system import LeapHybridSampler"
   ]
  },
  {
   "cell_type": "code",
   "execution_count": 2,
   "metadata": {},
   "outputs": [
    {
     "name": "stdout",
     "output_type": "stream",
     "text": [
      "Optionally install non-open-source packages and configure your environment.\n",
      "\n",
      "Do you want to select non-open-source packages to install (y/n)? [y]: "
     ]
    }
   ],
   "source": [
    "!dwave setup --auth"
   ]
  },
  {
   "cell_type": "code",
   "execution_count": null,
   "metadata": {},
   "outputs": [],
   "source": []
  }
 ],
 "metadata": {
  "kernelspec": {
   "display_name": "Python 3.9.6 64-bit",
   "language": "python",
   "name": "python3"
  },
  "language_info": {
   "codemirror_mode": {
    "name": "ipython",
    "version": 3
   },
   "file_extension": ".py",
   "mimetype": "text/x-python",
   "name": "python",
   "nbconvert_exporter": "python",
   "pygments_lexer": "ipython3",
   "version": "3.9.6"
  },
  "orig_nbformat": 4,
  "vscode": {
   "interpreter": {
    "hash": "20bf69066c0dd38d51965b69d5e1b6e387082e3198ba56e97997ac55f4e50ad0"
   }
  }
 },
 "nbformat": 4,
 "nbformat_minor": 2
}
