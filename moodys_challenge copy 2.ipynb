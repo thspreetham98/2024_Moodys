{
 "cells": [
  {
   "cell_type": "code",
   "execution_count": 1,
   "id": "a78f8aea",
   "metadata": {},
   "outputs": [],
   "source": [
    "import numpy as np\n",
    "import pandas as pd\n",
    "\n",
    "# You may choose to select different parameters/values\n",
    "number_assets = 32\n",
    "T  = 328\n",
    "# Read returns\n",
    "df = pd.read_csv('returns_data.txt',delim_whitespace=True)\n",
    "\n",
    "Rraw = df.values.T\n",
    "\n",
    "# Select the first N,T assets and scenarios, you may choose a different strategy if you would like to do so.\n",
    "R = Rraw[:number_assets,:T]\n",
    "\n",
    "# Expected return of each asset\n",
    "expected_returns = np.mean(R, axis = 1)\n",
    "\n",
    "# Covariance matrix of asset returns\n",
    "covariance_matrix = np.cov(R)"
   ]
  },
  {
   "cell_type": "code",
   "execution_count": 2,
   "id": "20b2251c",
   "metadata": {},
   "outputs": [],
   "source": [
    "from pyqubo import Array\n",
    "\n",
    "D = 20\n",
    "\n",
    "x = Array.create('x', shape=(number_assets, D), vartype=\"BINARY\")\n",
    "y = Array.create('y', shape=T, vartype=\"BINARY\")\n",
    "s = Array.create('s', shape=(T+1, D), vartype=\"BINARY\")\n",
    "r_e = Array.create('r_e', shape=D, vartype=\"BINARY\")"
   ]
  },
  {
   "cell_type": "code",
   "execution_count": 3,
   "id": "d84cacd7",
   "metadata": {},
   "outputs": [],
   "source": [
    "def binary_encode(x, D):\n",
    "    bin_x = 0\n",
    "    for d in range(D):\n",
    "        bin_x += (1/2**(D-1))*(2**d)*x[d]\n",
    "    return bin_x\n",
    "\n",
    "def encode_s(s, D):\n",
    "    bin_s = 0\n",
    "    for d in range(D):\n",
    "        bin_s += (2**d)*s[d]\n",
    "    return bin_s\n",
    "    #return LogEncInteger(s)\n",
    "\n",
    "def encode_r_e(r_e, z, Z):\n",
    "    bin_r = 0\n",
    "    for d in range(D):\n",
    "        bin_r += (1/2**(D-1))*(2**d)*r_e[d]\n",
    "    return -z+(Z+z)*bin_r"
   ]
  },
  {
   "cell_type": "code",
   "execution_count": 4,
   "id": "a1b3470c",
   "metadata": {},
   "outputs": [],
   "source": [
    "def H1(covariance_matrix, x):\n",
    "    ham_1 = 0\n",
    "    n, D = x.shape\n",
    "    for i in range(n):\n",
    "        x_i = binary_encode(x[i], D)\n",
    "        for j in range(n):\n",
    "            x_j = binary_encode(x[j], D)\n",
    "            ham_1 += covariance_matrix[i, j]*x_i*x_j\n",
    "    return ham_1"
   ]
  },
  {
   "cell_type": "code",
   "execution_count": 5,
   "id": "b05c7c20",
   "metadata": {},
   "outputs": [],
   "source": [
    "def H2(expected_returns, x):\n",
    "    ham_2 = 0\n",
    "    n, D = x.shape\n",
    "    for i in range(n):\n",
    "        ham_2 -= expected_returns[i]*binary_encode(x[i], D)\n",
    "    return ham_2"
   ]
  },
  {
   "cell_type": "code",
   "execution_count": 6,
   "id": "fe40d5ff",
   "metadata": {},
   "outputs": [],
   "source": [
    "def H3_t(r_e, x, R, M, y, s, z, Z, t):\n",
    "    ham_3 = encode_r_e(r_e, z, Z)\n",
    "    n, D = x.shape\n",
    "    for i in range(n):\n",
    "        ham_3 -= R[i, t]*binary_encode(x[i], D)\n",
    "    ham_3 += M*(1-y[t])\n",
    "    ham_3 += encode_s(s[t], D)\n",
    "    return ham_3\n",
    "\n",
    "def H3(r_e, x, R, M, y, s, z, Z):\n",
    "    ham_3 = 0\n",
    "    for t in range(T):\n",
    "        ham_3 += (H3_t(r_e, x, R, M, y, s, z, Z, t))**2\n",
    "    return ham_3"
   ]
  },
  {
   "cell_type": "code",
   "execution_count": 7,
   "id": "e72ceb1b",
   "metadata": {},
   "outputs": [],
   "source": [
    "def H4(y, T, s, epsilon, D):\n",
    "    ham_4 = 0\n",
    "    for t in range(T):\n",
    "        ham_4 += y[t]\n",
    "    ham_4 -= (1-epsilon)*T\n",
    "    ham_4 -= encode_s(s[-1], D)\n",
    "    return ham_4**2"
   ]
  },
  {
   "cell_type": "code",
   "execution_count": 8,
   "id": "ff85af2f",
   "metadata": {},
   "outputs": [],
   "source": [
    "def H5(x):\n",
    "    ham_5 = 0\n",
    "    n, D = x.shape\n",
    "    for i in range(n):\n",
    "        ham_5 += binary_encode(x[i], D)\n",
    "    return (ham_5-1)**2"
   ]
  },
  {
   "cell_type": "code",
   "execution_count": 9,
   "id": "ba96d396",
   "metadata": {},
   "outputs": [],
   "source": [
    "lambda_ = [1, 1, 1, 1, 1]\n",
    "M = 0.005758011095403033\n",
    "z = -0.01788126470126068\n",
    "Z = 0.004813770295956064\n",
    "epsilon = 0.05\n",
    "H = lambda_[0]*H1(covariance_matrix, x)+lambda_[1]*H2(expected_returns, x)+lambda_[2]*H3(r_e, x, R, M, y, s, z, Z)+lambda_[3]*H4(y, T, s, epsilon, D)+lambda_[4]*H5(x)"
   ]
  },
  {
   "cell_type": "markdown",
   "id": "ed9d5b11-b2f3-4c79-bdf9-000cd7685f85",
   "metadata": {},
   "source": [
    "<div class=\"alert alert-block alert-danger\">\n",
    "    \n",
    "<b>BONUS EXERCISE:</b> \n",
    "As you notice the number of binary operators one has to use scales with the number of variables. Introducing the slack variables is therefore very costly. Try to suggest a new way of implementing the inequalities, without a lot of details. You can use the help of reference [Unbalanced penalization: A new approach to encode inequality constraints of combinatorial problems for quantum optimization algorithms](https://arxiv.org/abs/2211.13914).\n",
    "\n",
    "</div>"
   ]
  },
  {
   "cell_type": "markdown",
   "id": "51466cca-e371-4f55-bdee-7b2eea6159d8",
   "metadata": {},
   "source": [
    "**Answer:**"
   ]
  },
  {
   "cell_type": "markdown",
   "id": "1a9abb2c-9062-451e-9b4b-8009bd455e3c",
   "metadata": {},
   "source": [
    "Optimization problems, like the one above, can be solved with the use of simulated annealing. It is one of the most preferred heuristic methods to solve optimization problems, since it avoids local minima."
   ]
  },
  {
   "cell_type": "code",
   "execution_count": 10,
   "id": "a359a291-bbb0-4f4f-97fd-acd5f90d8eb6",
   "metadata": {},
   "outputs": [],
   "source": [
    "# write your code here\n",
    "model = H.compile()\n",
    "\n",
    "bqm = model.to_bqm()\n",
    "#import neal\n",
    "#sa = neal.SimulatedAnnealingSampler()\n",
    "#sampleset = sa.sample(bqm, num_reads=10)\n",
    "#decoded_samples = model.decode_sampleset(sampleset)\n",
    "#best_sample = min(decoded_samples, key=lambda x: x.energy)\n",
    "#print(best_sample.sample)"
   ]
  },
  {
   "cell_type": "code",
   "execution_count": 11,
   "id": "258d9a77",
   "metadata": {},
   "outputs": [
    {
     "data": {
      "text/plain": [
       "7568"
      ]
     },
     "execution_count": 11,
     "metadata": {},
     "output_type": "execute_result"
    }
   ],
   "source": [
    "(T+number_assets+2)*D+T"
   ]
  },
  {
   "cell_type": "code",
   "execution_count": 12,
   "id": "4cd0535a",
   "metadata": {},
   "outputs": [
    {
     "name": "stdout",
     "output_type": "stream",
     "text": [
      "Found solution with 461 nodes at energy 0.2579403104997482.\n"
     ]
    }
   ],
   "source": [
    "from dwave.system import LeapHybridSampler\n",
    "import numpy as np\n",
    "\n",
    "result = LeapHybridSampler().sample(bqm, label='Notebook - Hybrid Computing 1')\n",
    "print(\"Found solution with {} nodes at energy {}.\".format(np.sum(result.record.sample), \n",
    "                                                          result.first.energy))"
   ]
  },
  {
   "cell_type": "code",
   "execution_count": null,
   "id": "f04a34a3",
   "metadata": {},
   "outputs": [],
   "source": [
    "7568"
   ]
  },
  {
   "cell_type": "code",
   "execution_count": null,
   "id": "e5d4f036",
   "metadata": {},
   "outputs": [],
   "source": []
  },
  {
   "cell_type": "code",
   "execution_count": null,
   "id": "4953fbc2",
   "metadata": {},
   "outputs": [],
   "source": []
  },
  {
   "cell_type": "code",
   "execution_count": 12,
   "id": "95761549",
   "metadata": {},
   "outputs": [],
   "source": [
    "def calculate_historical_VaR(weights, mu_R, confidence_level=0.95):\n",
    "    \n",
    "    portfolio_returns = np.dot(mu_R, np.transpose(np.array(weights)))\n",
    "\n",
    "    VaR = np.percentile(portfolio_returns, 100 * (1 - confidence_level))\n",
    "    \n",
    "    return -VaR"
   ]
  },
  {
   "cell_type": "markdown",
   "id": "09d0c42b",
   "metadata": {},
   "source": [
    "with $\\textit{weights}$ being a list that includes the optimal values (your solution) for the variables $\\{x_{i}\\}$ and $\\textit{mu_R}$ the expected returns of the assets (given by the data). Compare the return value got from this function to $VaR_{\\epsilon}$ calculated above."
   ]
  },
  {
   "cell_type": "code",
   "execution_count": 13,
   "id": "7c6d5972",
   "metadata": {},
   "outputs": [],
   "source": [
    "# write your code here\n",
    "\n",
    "def cal_asset_i(dict, i, D):\n",
    "    x_i = 0\n",
    "    for d in range(D):\n",
    "        x_i += (1/2**(D-1))*2**(d)*dict[f\"x[{i}][{d}]\"]\n",
    "    return x_i\n",
    "\n",
    "def cal_r_e(dict, D, z, Z):\n",
    "    r_ = 0\n",
    "    for d in range(D):\n",
    "        r_ += (1/2**(D-1))*2**(d)*dict[f\"r_e[{d}]\"]\n",
    "    return -z+(Z+z)*r_"
   ]
  },
  {
   "cell_type": "code",
   "execution_count": 14,
   "id": "dcc4d12a",
   "metadata": {},
   "outputs": [],
   "source": [
    "def expected_total_returns(expected_returns, number_assets, dict, D):\n",
    "    total_return = 0\n",
    "    for i in range(number_assets):\n",
    "        total_return += expected_returns[i]*cal_asset_i(dict, i, D)\n",
    "    return total_return"
   ]
  },
  {
   "cell_type": "code",
   "execution_count": 15,
   "id": "c7e71691",
   "metadata": {},
   "outputs": [],
   "source": [
    "def variance(dict, covariance_matrix, number_assets, D):\n",
    "    var = 0\n",
    "    for i in range(number_assets):\n",
    "        for j in range(number_assets):\n",
    "            var += covariance_matrix[i, j]*cal_asset_i(dict, i, D)*cal_asset_i(dict, j, D)\n",
    "    return var"
   ]
  },
  {
   "cell_type": "code",
   "execution_count": 16,
   "id": "e1266b4b",
   "metadata": {},
   "outputs": [
    {
     "data": {
      "text/plain": [
       "0.01602504618427734"
      ]
     },
     "execution_count": 16,
     "metadata": {},
     "output_type": "execute_result"
    }
   ],
   "source": [
    "expected_total_returns(expected_returns, number_assets, best_sample.sample, D)"
   ]
  },
  {
   "cell_type": "code",
   "execution_count": 17,
   "id": "e78c8693",
   "metadata": {},
   "outputs": [
    {
     "data": {
      "text/plain": [
       "-0.0"
      ]
     },
     "execution_count": 17,
     "metadata": {},
     "output_type": "execute_result"
    }
   ],
   "source": [
    "w_ = [cal_asset_i(best_sample.sample, i, D) for i in range(number_assets)]\n",
    "\n",
    "calculate_historical_VaR(w_, expected_total_returns(expected_returns, number_assets,  best_sample.sample, D))"
   ]
  },
  {
   "cell_type": "markdown",
   "id": "e32da760-2d7c-44cc-b541-0fd576eaedf2",
   "metadata": {},
   "source": [
    "**Answer:**"
   ]
  },
  {
   "cell_type": "markdown",
   "id": "9acc19d6-5b85-4ef4-aef4-7cdfe709b566",
   "metadata": {},
   "source": [
    "### Section 5: Quantum optimization (Quantum Annealing and/or QAOA)"
   ]
  },
  {
   "cell_type": "markdown",
   "id": "ac6a4eab-e29a-470d-ba29-a3995c8eac10",
   "metadata": {},
   "source": [
    "\n",
    "**Note**: For the exercises below use the $\\hat{H}$ you found in **Section 2**, with the same encoding you used in that exercise and with the use of the **data** provided in the beginning of the challenge.\n",
    "\n",
    "**STEP 1:** Study the **Mean-Variance-VaR Simplified Version** problem with QAOA and Quantum Annealing. \n",
    "\n",
    "The Quantum Approximate Optimization Algorithm (QAOA) was first introduced in [A Quantum Approximate Optimization Algorithm](https://arxiv.org/abs/1411.4028). QAOA is a popular method to solve combinatorial optimization problems in noisy intermediate-scale quantum (NISQ) devices.\n",
    "\n",
    "Useful tutorials on implementing QAOA can be found here: \n",
    "- [Pulser tutorial QAOA](https://pulser.readthedocs.io/en/latest/tutorials/qubo.html)\n",
    "- [Qiskit QAOA](https://docs.quantum.ibm.com/api/qiskit/qiskit.algorithms.minimum_eigensolvers.QAOA), [Qiskit tutorial QAOA](https://qiskit.org/documentation/stable/0.40/tutorials/algorithms/05_qaoa.html)\n",
    "- [pyQAOA tutorial QAOA](https://grove-docs.readthedocs.io/en/latest/qaoa.html)\n",
    "- [PennyLane tutorial QAOA](https://pennylane.ai/qml/demos/tutorial_qaoa_intro/)\n",
    "- [OpenQAOA-EntropicaLabs](https://openqaoa.entropicalabs.com/)\n",
    "\n",
    "For Quantum Annealing, you may read this reference [D-Wave, Quantum Annealing](https://docs.dwavesys.com/docs/latest/c_gs_2.html#getting-started-qa) and follow [D-Wave Ocean Software documentation](https://docs.ocean.dwavesys.com/en/stable/index.html) for the implementation. \n",
    "In [Solving the Optimal Trading Trajectory Problem Using a Quantum Annealer](https://arxiv.org/abs/1508.06182), the authors explain how the choice of encoding might differ when considering solving an optimization problem with quantum annealing instead of simulated annealing.\n",
    "   \n",
    "Do not implement anything at the moment. This step is for introducing you to different quantum or quantum-inspired algorithms one could utilize for this problem.\n",
    "\n",
    "**STEP 2:** In **Section 3** you used [D-Wave neal](https://docs.ocean.dwavesys.com/projects/neal/en/latest/) to solve the problem with Simulated Annealing. As also seen in the previous step, [D-Wave Ocean](https://docs.ocean.dwavesys.com/en/stable/getting_started.html)  gives you immediate, secure access to D-Wave quantum and hybrid solvers. Study the capabilities of [D-Wave Ocean](https://docs.ocean.dwavesys.com/en/stable/getting_started.html) and answer the following questions:\n",
    "\n",
    "- For reasonable granularity (i.e. number of qubits per encoded variable) how many assets $n$ and events $T$ you can study with a quantum device and D-Wave? For that you will need to find the total number of qubits that you can explore with [D-Wave Ocean](https://docs.ocean.dwavesys.com/en/stable/getting_started.html) for the algorithm of your choice. Notice that the resources available to the public are much less than the capabilities of these devices.\n",
    "\n",
    "**STEP 3:** After exploring the capabilities of [D-Wave Ocean Software documentation](https://docs.ocean.dwavesys.com/en/stable/index.html), you are encouraged to use a **quantum simulator/backend** to study the **Mean-Variance-VaR Simplified Version** problem with the **data** provided in the beginning of the challenge (feel free to change $T$ and $n$ if needed)  and any method of your choice. For this, you can use your qBraid account. Explore the options below:\n",
    "\n",
    "- [Qiskit](https://docs.quantum.ibm.com/api/qiskit)\n",
    "- [Amazon Braket](https://docs.aws.amazon.com/braket/latest/developerguide/what-is-braket.html)\n",
    "\n",
    "Or even more, you may also opt to explore the usage of GPUs for simulating quantum algorithms. For example, see a recent [work](https://www.jpmorgan.com/technology/technology-blog/quantum-optimization-research) that studies QAOA scaling performance on a fast GPU-specific QAOA simulator.\n",
    "\n",
    "No matter what algorithm you choose, **you are encouraged to run small-scale simulations of the problems on quantum backends and simulators, always keeping in mind the resources that you are utilizing and their cost**. What problems/limitations do you encounter in comparison with simulated annealing?"
   ]
  },
  {
   "cell_type": "code",
   "execution_count": null,
   "id": "bf0bf994",
   "metadata": {},
   "outputs": [],
   "source": []
  },
  {
   "cell_type": "markdown",
   "id": "dbc17d65-627d-4805-ac9f-3a3803bfc70d",
   "metadata": {},
   "source": [
    "<div class=\"alert alert-block alert-info\"> <b>Note 1 (Hint)</b>:\n",
    "    \n",
    " One could read the following references: \n",
    " \n",
    "- [Quantum Optimization: Potential, Challenges, and the Path Forward](https://arxiv.org/abs/2312.02279) and references within.\n",
    "  \n",
    "</div>"
   ]
  },
  {
   "cell_type": "markdown",
   "id": "8b4a5f08-14de-4d26-8031-8c1b2cd4f003",
   "metadata": {},
   "source": [
    "<div class=\"alert alert-block alert-info\"> <b>Note 2 (Hint)</b>:\n",
    "    \n",
    "One can take a look at the [IBM Quantum Development Roadmap to 2033](https://newsroom.ibm.com/2023-12-04-IBM-Debuts-Next-Generation-Quantum-Processor-IBM-Quantum-System-Two,-Extends-Roadmap-to-Advance-Era-of-Quantum-Utility) and [QuEra's Quantum Computing Roadmap](https://www.quera.com/press-releases/quera-computing-releases-a-groundbreaking-roadmap-for-advanced-error-corrected-quantum-computers-pioneering-the-next-frontier-in-quantum-innovation) for an idea about the current and predicted quantum capabilities.\n",
    "    \n",
    "</div>"
   ]
  },
  {
   "cell_type": "markdown",
   "id": "990a82c7-6ccc-4552-8b86-97a95fece3cd",
   "metadata": {},
   "source": [
    "**Answer:**"
   ]
  },
  {
   "cell_type": "code",
   "execution_count": null,
   "id": "aa60be68",
   "metadata": {},
   "outputs": [],
   "source": [
    "# write your code here"
   ]
  },
  {
   "cell_type": "markdown",
   "id": "95e10967",
   "metadata": {},
   "source": [
    "### Section 6 (BONUS):\n",
    "\n",
    "Above you followed specific steps and used simulated annealing as well as quantum or quantum-inspired methods to solve the problem of interest. To do this, you were instructed to incorporate the constraints of the problem (equalities/inequalities) in the objective function and then to find the QUBO formulation of the problem in question. In this exercise you are asked to think of another way to solve the **Mean-Variance-VaR Simplified Version** problem with quantum, quantum-inspired or hybrid methods, without following any of the steps mentioned in this challenge."
   ]
  },
  {
   "cell_type": "markdown",
   "id": "d57153d6",
   "metadata": {},
   "source": [
    "**Answer:**"
   ]
  },
  {
   "cell_type": "code",
   "execution_count": null,
   "id": "067cea0c",
   "metadata": {},
   "outputs": [],
   "source": [
    "# write your code here"
   ]
  },
  {
   "cell_type": "markdown",
   "id": "71ae8d5b-93a8-4305-95a1-0cebf1f29cf6",
   "metadata": {},
   "source": [
    "### Section 7: Pitch your quantum strategy to a client"
   ]
  },
  {
   "cell_type": "markdown",
   "id": "ecb9a766-b6df-4b91-b0ff-13ced8fc5b52",
   "metadata": {},
   "source": [
    "Imagine that you are part of the Quantum team at Moody's. You are meeting the board of stakeholders of an important company in the US. Given what you now know about the current quantum hardware capabilities, in which quantum algorithms should the stakeholders invest and why? Prepare your pitch focusing only on portfolio optimization problems. How do you think quantum could potentially avoid the drawbacks of classical optimization algorithms and why should a company invest in quantum today?"
   ]
  },
  {
   "cell_type": "markdown",
   "id": "a440d8cd-2ed2-45e9-8a89-895847db823c",
   "metadata": {},
   "source": [
    "<div class=\"alert alert-block alert-info\"> <b>Hint</b>:\n",
    "    \n",
    " One could read the following references: \n",
    " \n",
    "- [Quantum Optimization: Potential, Challenges, and the Path Forward](https://arxiv.org/abs/2312.02279) \n",
    "- [QAOA with N⋅p≥200](https://arxiv.org/abs/2303.02064) \n",
    "- [Evidence of Scaling Advantage for the Quantum Approximate Optimization Algorithm on a Classically Intractable Problem](https://arxiv.org/pdf/2308.02342.pdf)\n",
    "- [Towards optimization under uncertainty for fundamental models in energy markets using quantum computers](https://arxiv.org/abs/2301.01108)\n",
    "  \n",
    "</div>"
   ]
  },
  {
   "cell_type": "markdown",
   "id": "550f2bc1-7726-417e-88b5-8253ac12baeb",
   "metadata": {},
   "source": [
    "**Answer:**"
   ]
  },
  {
   "cell_type": "markdown",
   "id": "c098599c-7ab0-48b1-9e33-51d22502310d",
   "metadata": {},
   "source": [
    "# This is the end of the challenge. Good luck!"
   ]
  }
 ],
 "metadata": {
  "kernelspec": {
   "display_name": "Python 3.9.6 64-bit",
   "language": "python",
   "name": "python3"
  },
  "language_info": {
   "codemirror_mode": {
    "name": "ipython",
    "version": 3
   },
   "file_extension": ".py",
   "mimetype": "text/x-python",
   "name": "python",
   "nbconvert_exporter": "python",
   "pygments_lexer": "ipython3",
   "version": "3.9.6"
  },
  "vscode": {
   "interpreter": {
    "hash": "20bf69066c0dd38d51965b69d5e1b6e387082e3198ba56e97997ac55f4e50ad0"
   }
  }
 },
 "nbformat": 4,
 "nbformat_minor": 5
}
